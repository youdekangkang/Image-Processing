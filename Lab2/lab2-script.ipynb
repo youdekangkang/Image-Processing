{
 "cells": [
  {
   "cell_type": "markdown",
   "id": "c6aace20",
   "metadata": {},
   "source": [
    "### 导入依赖"
   ]
  },
  {
   "cell_type": "code",
   "execution_count": 1,
   "id": "ec1741f2",
   "metadata": {},
   "outputs": [],
   "source": [
    "import cv2 as cv\n",
    "import matplotlib.pyplot as plt\n",
    "import numpy as np\n",
    "import pandas as pd"
   ]
  },
  {
   "cell_type": "markdown",
   "id": "a5fb0c11",
   "metadata": {},
   "source": [
    "### 使用函数"
   ]
  },
  {
   "cell_type": "code",
   "execution_count": 2,
   "id": "02bf27e6",
   "metadata": {},
   "outputs": [],
   "source": [
    "def cv_show(img):\n",
    "    cv.imshow('img',img)\n",
    "    cv.waitKey(0)\n",
    "    cv.destroyAllWindows()"
   ]
  },
  {
   "cell_type": "markdown",
   "id": "08d26da3",
   "metadata": {},
   "source": [
    "### 导入图像"
   ]
  },
  {
   "cell_type": "code",
   "execution_count": 3,
   "id": "4d36140c",
   "metadata": {},
   "outputs": [],
   "source": [
    "img = cv.imread('puff.png',0)\n",
    "cv_show(img)"
   ]
  },
  {
   "cell_type": "code",
   "execution_count": 4,
   "id": "1a1bd6e4",
   "metadata": {},
   "outputs": [],
   "source": [
    "rows , cols = img . shape [0:2]"
   ]
  },
  {
   "cell_type": "markdown",
   "id": "f939d05f",
   "metadata": {},
   "source": [
    "##### Image shift"
   ]
  },
  {
   "cell_type": "code",
   "execution_count": 5,
   "id": "b1550d2a",
   "metadata": {},
   "outputs": [],
   "source": [
    "T = np.float32 ([[1 , 0 , 50],\n",
    "                 [0 , 1 , 50]])\n",
    "I_shift = cv.warpAffine (img, T , (  cols , rows ))\n",
    "\n",
    "cv_show(I_shift)"
   ]
  },
  {
   "cell_type": "markdown",
   "id": "560f3c8e",
   "metadata": {},
   "source": [
    "##### image flip"
   ]
  },
  {
   "cell_type": "code",
   "execution_count": 185,
   "id": "21f0ebf6",
   "metadata": {},
   "outputs": [],
   "source": [
    "T = np.float32([[1,0,0],\n",
    "               [0,-1,rows-1]])\n",
    "I_flip= cv.warpAffine (img, T , (  cols , rows))\n",
    "cv_show(I_flip)"
   ]
  },
  {
   "cell_type": "code",
   "execution_count": 6,
   "id": "0bcc095b",
   "metadata": {},
   "outputs": [],
   "source": [
    "I_flip = cv.flip(img,0)\n",
    "cv_show(I_flip)"
   ]
  },
  {
   "cell_type": "markdown",
   "id": "cd7ea289",
   "metadata": {},
   "source": [
    "##### Uniform Image Scaling"
   ]
  },
  {
   "cell_type": "code",
   "execution_count": 8,
   "id": "912206f1",
   "metadata": {},
   "outputs": [],
   "source": [
    "scale_x,scale_y = 2,2\n",
    "T = np.float32([[scale_x,0,0],\n",
    "               [0,scale_y,0]])\n",
    "I_uniform1=  cv.resize(img, None, fx = 2, fy = 2,interpolation = cv.INTER_CUBIC)\n",
    "cv_show(I_uniform1)"
   ]
  },
  {
   "cell_type": "code",
   "execution_count": 9,
   "id": "d024da9e",
   "metadata": {},
   "outputs": [],
   "source": [
    "I_uniform2= cv.warpAffine (img, T , (  cols , rows))\n",
    "cv_show(I_uniform2)"
   ]
  },
  {
   "cell_type": "markdown",
   "id": "0ea4984b",
   "metadata": {},
   "source": [
    "##### Image Rotation"
   ]
  },
  {
   "cell_type": "code",
   "execution_count": 10,
   "id": "bbf55e0c",
   "metadata": {},
   "outputs": [],
   "source": [
    "import math\n",
    "phi = 17.0 * math.pi / 180\n",
    "T = np . float32 ([[ math . cos ( phi ) , - math . sin ( phi ) , 0] ,\n",
    "                    [ math . sin ( phi ) , math . cos ( phi ) , 0]])\n",
    "I_rotate = cv.warpAffine (img, T , ( cols , rows ))\n",
    "cv_show(I_rotate)"
   ]
  },
  {
   "cell_type": "code",
   "execution_count": 11,
   "id": "17f1d7b4",
   "metadata": {},
   "outputs": [],
   "source": [
    "phi = 17.0\n",
    "T = cv.getRotationMatrix2D( ((cols - 1) / 2.0, (rows - 1) / 2.0), -phi, 1)\n",
    "I_rotate = cv.warpAffine (img, T , ( cols , rows ))\n",
    "cv_show(I_rotate)"
   ]
  },
  {
   "cell_type": "markdown",
   "id": "27562700",
   "metadata": {},
   "source": [
    "##### Affine mapping"
   ]
  },
  {
   "cell_type": "code",
   "execution_count": 12,
   "id": "a28e2537",
   "metadata": {},
   "outputs": [],
   "source": [
    "pts_src = np.float32([[50, 300], [150, 200], [50, 50]])\n",
    "pts_dst = np.float32([[50, 200], [250, 200], [50, 100]])\n",
    "T = cv.getAffineTransform(pts_src, pts_dst)\n",
    "I_mapping = cv.warpAffine (img, T , ( cols , rows ))\n",
    "cv_show(I_mapping)"
   ]
  },
  {
   "cell_type": "markdown",
   "id": "2f20bc47",
   "metadata": {},
   "source": [
    "##### Image Bevel"
   ]
  },
  {
   "cell_type": "code",
   "execution_count": 14,
   "id": "5d14c10a",
   "metadata": {},
   "outputs": [],
   "source": [
    "s = 0.3\n",
    "T = np . float32 ([[1 , s , 0] , [0 , 1 , 0]])\n",
    "I_bevel = cv.warpAffine (img , T , ( cols , rows ))\n",
    "cv_show(I_bevel)"
   ]
  },
  {
   "cell_type": "markdown",
   "id": "a117f591",
   "metadata": {},
   "source": [
    "##### Piecewise-Linear Mapping"
   ]
  },
  {
   "cell_type": "code",
   "execution_count": 16,
   "id": "fd2afdf8",
   "metadata": {},
   "outputs": [],
   "source": [
    "stretch = 2\n",
    "T = np . float32 ([[ 2 , 0 , 0] , [0 , 1 , 0]])\n",
    "I_piecewiselinear = img.copy ()\n",
    "I_piecewiselinear [: , int ( cols / 2): ] =cv . warpAffine (\n",
    "I_piecewiselinear [: , int ( cols / 2):] ,T , ( cols - int ( cols / 2) , rows ))\n",
    "\n",
    "cv_show(I_piecewiselinear)"
   ]
  },
  {
   "cell_type": "markdown",
   "id": "97d02621",
   "metadata": {},
   "source": [
    "### Nonelinear Mappings\n",
    "#### Projection mapping"
   ]
  },
  {
   "cell_type": "code",
   "execution_count": 19,
   "id": "1cc397ff",
   "metadata": {},
   "outputs": [],
   "source": [
    "T = np . float32 (\n",
    "[[1.1 , 0.2 , 0.00075] ,\n",
    "[0.35 , 1.1 , 0.0005] ,\n",
    "[0 , 0 , 1]])\n",
    "I_projective = cv.warpPerspective (img , T ,( cols , rows ))\n",
    "cv_show(I_projective)"
   ]
  },
  {
   "cell_type": "code",
   "execution_count": 20,
   "id": "bd06ec23",
   "metadata": {},
   "outputs": [],
   "source": [
    "pts_src = np.float32([[50, 461], [461, 461], [461, 50], [50, 50]])\n",
    "pts_dst = np.float32([[50, 461], [461, 440], [450, 10], [100, 50]])\n",
    "T = cv.getPerspectiveTransform(pts_src, pts_dst)\n",
    "I_projective = cv.warpPerspective (img , T ,( cols , rows ))\n",
    "cv_show(I_projective)"
   ]
  },
  {
   "cell_type": "markdown",
   "id": "3c2b68fc",
   "metadata": {},
   "source": [
    "##### Polynomial mapping"
   ]
  },
  {
   "cell_type": "code",
   "execution_count": 21,
   "id": "92c7a008",
   "metadata": {},
   "outputs": [],
   "source": [
    "T = np . array ([[0 , 0] , [1 , 0] , [0 , 1] ,\n",
    "                 [0.00001 , 0] , [0.002 , 0] , [0.001 , 0]])\n",
    "I_polynomial = np . zeros ( img . shape , img . dtype )\n",
    "x , y = np . meshgrid ( np . arange ( cols ) , np . arange ( rows ))\n",
    "\n",
    "# Calculate all new X and Y coordinates\n",
    "xnew = np . round ( T [0 , 0] + x * T [1 , 0] +\n",
    "                   y * T [2 , 0] + x * x * T [3 , 0] +\n",
    "                   x * y * T [4 , 0] +\n",
    "                   y * y * T [5 , 0]). astype ( np . float32 )\n",
    "ynew = np . round ( T [0 , 1] + x * T [1 , 1] +\n",
    "                   y * T [2 , 1] + x * x * T [3 , 1] +\n",
    "                   x * y * T [4 , 1] +\n",
    "                   y * y * T [5 , 1]). astype ( np . float32 )\n",
    "\n",
    "# Calculate mask of valid indexes\n",
    "mask = np . logical_and (np . logical_and ( xnew >= 0 , xnew < cols ) ,\n",
    "                         np . logical_and ( ynew >= 0 , ynew < rows ))\n",
    "\n",
    "# Apply reindexing\n",
    "if img . ndim == 2:\n",
    "    I_polynomial[ ynew [ mask ]. astype ( int ) ,\n",
    "              xnew [ mask ]. astype ( int )] =img [ y[ mask ] , x [ mask ]]\n",
    "else :\n",
    "    I_polynomial[ ynew [ mask ]. astype ( int ) ,\n",
    "              xnew [ mask ]. astype ( int )] =img [ y [ mask ] , x [ mask ]]\n",
    "    \n",
    "cv_show(I_polynomial)"
   ]
  },
  {
   "cell_type": "markdown",
   "id": "2fe0f9f5",
   "metadata": {},
   "source": [
    "#### Simusooidal distortion"
   ]
  },
  {
   "cell_type": "code",
   "execution_count": 22,
   "id": "ed2fa53c",
   "metadata": {},
   "outputs": [],
   "source": [
    "u , v = np . meshgrid ( np . arange ( cols ) ,np . arange ( rows ))\n",
    "u = u + 20 * np . sin (2 * math . pi * v / 90)\n",
    "I_sinusoid =cv . remap (img , u . astype ( np . float32 ) ,\n",
    "             v . astype ( np . float32 ) , cv.INTER_LINEAR )\n",
    "cv_show(I_sinusoid)"
   ]
  },
  {
   "cell_type": "markdown",
   "id": "c8de90cf",
   "metadata": {},
   "source": [
    "#### Distortion correction\n",
    "##### Barrel distortion"
   ]
  },
  {
   "cell_type": "code",
   "execution_count": 35,
   "id": "6b3dcd7e",
   "metadata": {},
   "outputs": [],
   "source": [
    "img = cv.imread('learn_berrer.jpg.png',0)\n",
    "cv_show(img)\n",
    "rows , cols = img . shape [0:2]\n",
    "\n",
    "# Create mesh grid for X , Y\n",
    "xi , yi = np . meshgrid ( np . arange ( cols ) ,np . arange ( rows ))\n",
    "# Shift and normalize grid\n",
    "xmid = cols / 2.0\n",
    "ymid = rows / 2.0\n",
    "xi = xi - xmid\n",
    "yi = yi - ymid\n",
    "\n",
    "\n",
    "# Convert to polar and do transformation\n",
    "r , theta = cv . cartToPolar ( xi / xmid , yi / ymid )\n",
    "F3 = 0.1\n",
    "F5 = 0.12\n",
    "r = r + F3 * r ** 3 + F5 * r ** 5\n",
    "# Undo conversion , normalization and shift\n",
    "u , v = cv.polarToCart (r , theta )\n",
    "u = u * xmid + xmid ;\n",
    "v = v * ymid + ymid ;\n",
    "\n",
    "# Do remapping\n",
    "I_barrel =cv.remap(img , u . astype ( np . float32 ) ,\n",
    "                    v.astype ( np . float32 ) , cv.INTER_LINEAR )\n",
    "\n",
    "#shift\n",
    "# T = np.float32 ([[1 , 0 , 250],\n",
    "#                  [0 , 1 , 250]])\n",
    "# I_barrel = cv.warpAffine (I_barrel, T , (  cols , rows ))\n",
    "\n",
    "cv_show(I_barrel)"
   ]
  },
  {
   "cell_type": "markdown",
   "id": "947b1181",
   "metadata": {},
   "source": [
    "##### Image Stitching"
   ]
  },
  {
   "cell_type": "code",
   "execution_count": null,
   "id": "fc8ffc78",
   "metadata": {},
   "outputs": [],
   "source": [
    "fn1 = \"puff_1.png\"\n",
    "fn2 = \"puff_2.png\"\n",
    " # Read an images from files\n",
    "I_top = cv . imread ( fn1 , cv . IMREAD_COLOR )\n",
    "I_bottom = cv . imread ( fn2 , cv . IMREAD_COLOR )\n",
    "# Match template\n",
    "templ_size = 10\n",
    "templ = I_top [ - templ_size : , : , :]\n",
    "res = cv.matchTemplate ( I_bottom , templ ,cv.TM_CCOEFF )\n",
    "min_val , max_val , min_loc ,max_loc = cv.minMaxLoc ( res )\n",
    "\n",
    "# Stitch images\n",
    "I_stitch = np . zeros (( I_top . shape [0] +\n",
    "                        I_bottom . shape [0] - max_loc [1] -\n",
    "                        templ_size , I_top . shape [1] ,\n",
    "                        I_top . shape [2]) , dtype = np . uint8 )\n",
    "\n",
    "I_stitch [0: I_top . shape [0] , : , :] = I_top\n",
    "\n",
    "I_stitch [ I_top . shape [0]: , : , :] = I_bottom [ max_loc [1] + templ_size :, 1: , :]\n",
    "\n",
    "cv_show(I_stitch)"
   ]
  },
  {
   "cell_type": "markdown",
   "id": "1c427de0",
   "metadata": {},
   "source": [
    "##### Automatic panorama stitching with OpenCV"
   ]
  },
  {
   "cell_type": "code",
   "execution_count": 38,
   "id": "38132082",
   "metadata": {},
   "outputs": [],
   "source": [
    "P2 = cv.imread('P2.jpg')\n",
    "P3 = cv.imread('P3.jpg')\n",
    "\n",
    "stitcher = cv.Stitcher_create(cv.Stitcher_SCANS)\n",
    "status, I_stitch = stitcher.stitch([P2,P3])"
   ]
  },
  {
   "cell_type": "code",
   "execution_count": 7,
   "id": "482fbd2d",
   "metadata": {},
   "outputs": [
    {
     "ename": "error",
     "evalue": "OpenCV(4.5.4-dev) D:\\a\\opencv-python\\opencv-python\\opencv\\modules\\imgcodecs\\src\\loadsave.cpp:799: error: (-215:Assertion failed) !_img.empty() in function 'cv::imwrite'\n",
     "output_type": "error",
     "traceback": [
      "\u001b[1;31m---------------------------------------------------------------------------\u001b[0m",
      "\u001b[1;31merror\u001b[0m                                     Traceback (most recent call last)",
      "\u001b[1;32mC:\\Users\\MODEKA~1\\AppData\\Local\\Temp/ipykernel_36024/4034504362.py\u001b[0m in \u001b[0;36m<module>\u001b[1;34m\u001b[0m\n\u001b[1;32m----> 1\u001b[1;33m \u001b[0mcv\u001b[0m\u001b[1;33m.\u001b[0m\u001b[0mimwrite\u001b[0m\u001b[1;33m(\u001b[0m\u001b[1;34m'file2.jpg'\u001b[0m\u001b[1;33m,\u001b[0m\u001b[0mI_stitch\u001b[0m\u001b[1;33m)\u001b[0m\u001b[1;33m\u001b[0m\u001b[1;33m\u001b[0m\u001b[0m\n\u001b[0m",
      "\u001b[1;31merror\u001b[0m: OpenCV(4.5.4-dev) D:\\a\\opencv-python\\opencv-python\\opencv\\modules\\imgcodecs\\src\\loadsave.cpp:799: error: (-215:Assertion failed) !_img.empty() in function 'cv::imwrite'\n"
     ]
    }
   ],
   "source": [
    "cv.imwrite('file.jpg',I_stitch)"
   ]
  }
 ],
 "metadata": {
  "kernelspec": {
   "display_name": "Python 3",
   "language": "python",
   "name": "python3"
  },
  "language_info": {
   "codemirror_mode": {
    "name": "ipython",
    "version": 3
   },
   "file_extension": ".py",
   "mimetype": "text/x-python",
   "name": "python",
   "nbconvert_exporter": "python",
   "pygments_lexer": "ipython3",
   "version": "3.7.10"
  }
 },
 "nbformat": 4,
 "nbformat_minor": 5
}
