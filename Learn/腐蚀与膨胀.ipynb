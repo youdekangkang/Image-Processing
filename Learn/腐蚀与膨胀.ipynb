{
 "cells": [
  {
   "cell_type": "code",
   "execution_count": 1,
   "id": "089bd09f",
   "metadata": {},
   "outputs": [],
   "source": [
    "import cv2   #opencv格式是BGR\n",
    "import matplotlib.pyplot as plt\n",
    "import numpy as np\n",
    "%matplotlib inline"
   ]
  },
  {
   "cell_type": "markdown",
   "id": "ee73f865",
   "metadata": {},
   "source": [
    "# 腐蚀"
   ]
  },
  {
   "cell_type": "code",
   "execution_count": 35,
   "id": "8d97ecd9",
   "metadata": {},
   "outputs": [],
   "source": [
    "img = cv2.imread('test2.png')\n",
    "\n",
    "#创建一个函数方便调用\n",
    "def cv_show(name,img):\n",
    "    cv2.imshow(name,img)\n",
    "    cv2.waitKey(0)\n",
    "    cv2.destroyAllWindows()\n",
    "cv_show('orginal',img)"
   ]
  },
  {
   "cell_type": "markdown",
   "id": "3e6682b8",
   "metadata": {},
   "source": [
    "(3,3)代表卷积核的大小 iterations代表迭代次数"
   ]
  },
  {
   "cell_type": "code",
   "execution_count": 37,
   "id": "d8d2f48f",
   "metadata": {},
   "outputs": [],
   "source": [
    "kernel = np.ones((3,3),np.uint8)\n",
    "erosion = cv2.erode(img,kernel,iterations=1)\n",
    "\n",
    "cv_show('erosion',erosion)"
   ]
  },
  {
   "cell_type": "markdown",
   "id": "2c138718",
   "metadata": {},
   "source": [
    "# 膨胀操作"
   ]
  },
  {
   "cell_type": "code",
   "execution_count": 38,
   "id": "2ea635f0",
   "metadata": {},
   "outputs": [],
   "source": [
    "kernel = np.ones((3,3),np.uint8)\n",
    "dilate = cv2.dilate(img,kernel,iterations = 1)\n",
    "\n",
    "cv_show('dilate')"
   ]
  },
  {
   "cell_type": "code",
   "execution_count": null,
   "id": "bafd9951",
   "metadata": {},
   "outputs": [],
   "source": []
  }
 ],
 "metadata": {
  "kernelspec": {
   "display_name": "Python 3 (ipykernel)",
   "language": "python",
   "name": "python3"
  },
  "language_info": {
   "codemirror_mode": {
    "name": "ipython",
    "version": 3
   },
   "file_extension": ".py",
   "mimetype": "text/x-python",
   "name": "python",
   "nbconvert_exporter": "python",
   "pygments_lexer": "ipython3",
   "version": "3.7.10"
  }
 },
 "nbformat": 4,
 "nbformat_minor": 5
}
